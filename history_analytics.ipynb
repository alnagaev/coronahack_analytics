{
 "cells": [
  {
   "cell_type": "code",
   "execution_count": 2,
   "metadata": {},
   "outputs": [],
   "source": [
    "import pandas as pd\n",
    "\n",
    "import os \n",
    "PATH = '/home/politlen/Downloads/Telegram Desktop'\n",
    "history = 'history.csv'\n",
    "states = 'states.csv'\n",
    "\n",
    "hist_df = pd.read_csv(os.path.join(PATH, history), converters={'history': eval})"
   ]
  },
  {
   "cell_type": "code",
   "execution_count": null,
   "metadata": {
    "scrolled": true
   },
   "outputs": [],
   "source": [
    "len(hist_df)"
   ]
  },
  {
   "cell_type": "code",
   "execution_count": null,
   "metadata": {
    "scrolled": true
   },
   "outputs": [],
   "source": [
    "import json\n",
    "import datetime\n",
    "\n",
    "pd.set_option('display.width', 1000)\n",
    "pd.set_option('display.expand_frame_repr', False)\n",
    "\n",
    "test_cell = hist_df.history.loc[0]\n",
    "\n",
    "def get_updates(json):\n",
    "    return [x for x  in json if x['type']=='update']\n",
    "    \n",
    "\n",
    "def to_dt(string):\n",
    "    return datetime.datetime.strptime(string, '%Y-%m-%d_%H:%M:%S')\n",
    "\n",
    "def get_time_diff(json):\n",
    "    return to_dt(json[-1]['ts']) - to_dt(json[0]['ts'])\n",
    "\n",
    "def get_data(json):\n",
    "    length = len(json)\n",
    "    \n",
    "    return length\n",
    "\n",
    "print(get_data(test_cell))\n",
    "# print(json.dumps(get_updates(test_cell), sort_keys=True, indent=4, ensure_ascii=False))\n",
    "print(get_time_diff(test_cell))\n",
    "hist_df['len'] = hist_df.history.apply(lambda x:len(x))\n",
    "hist_df['updates'] = hist_df.history.apply(lambda x:len(get_updates(x)))\n",
    "hist_df['hello'] = hist_df.history.apply(lambda x: len([i for i in x if i['action'] == 'hello']))\n",
    "hist_df['start'] = hist_df.history.apply(lambda x: len([i for i in x if i['action'] == '/start']))\n",
    "\n",
    "hist_df['time_diff'] = hist_df.history.apply(get_time_diff)\n",
    "hist_df.columns"
   ]
  },
  {
   "cell_type": "code",
   "execution_count": null,
   "metadata": {
    "scrolled": false
   },
   "outputs": [],
   "source": [
    "# hist_df['steps_cut'] = pd.qcut(hist_df['steps'], q=3)\n",
    "hist_df[hist_df.start > 3]"
   ]
  },
  {
   "cell_type": "code",
   "execution_count": null,
   "metadata": {
    "scrolled": true
   },
   "outputs": [],
   "source": [
    "hist_df.history.loc[5]"
   ]
  },
  {
   "cell_type": "code",
   "execution_count": null,
   "metadata": {
    "scrolled": true
   },
   "outputs": [],
   "source": [
    "low = hist_df[hist_df.time_diff < datetime.timedelta(seconds=30)]\n",
    "print('Количество запией: ', len(low))\n",
    "low.head()"
   ]
  },
  {
   "cell_type": "code",
   "execution_count": null,
   "metadata": {
    "scrolled": true
   },
   "outputs": [],
   "source": [
    "for i in low.history:\n",
    "    print(json.dumps(i, sort_keys=True, indent=4, ensure_ascii=False), end = '**'*16)"
   ]
  },
  {
   "cell_type": "code",
   "execution_count": 63,
   "metadata": {},
   "outputs": [],
   "source": [
    "def get_action_list(df):\n",
    "    action_list = []\n",
    "    for row in df:\n",
    "        action_list.append([x['action'] for x in row if x['type'] == 'update'])\n",
    "    \n",
    "    return action_list"
   ]
  },
  {
   "cell_type": "code",
   "execution_count": null,
   "metadata": {
    "scrolled": true
   },
   "outputs": [],
   "source": [
    "from collections import Counter\n",
    "cnt = Counter()\n",
    "\n",
    "for el in get_action_list(hist_df.history):\n",
    "     el = str(el)\n",
    "     cnt[el] += 1\n",
    "        \n",
    "\n",
    "cnt.most_common(20)"
   ]
  },
  {
   "cell_type": "code",
   "execution_count": null,
   "metadata": {
    "scrolled": false
   },
   "outputs": [],
   "source": [
    "get_action_list(hist_df.history)[:2]"
   ]
  },
  {
   "cell_type": "code",
   "execution_count": 45,
   "metadata": {},
   "outputs": [],
   "source": [
    "import numpy as np\n",
    "\n",
    "def levenshtein(seq1, seq2):\n",
    "    size_x = len(seq1) + 1\n",
    "    size_y = len(seq2) + 1\n",
    "    matrix = np.zeros ((size_x, size_y))\n",
    "    for x in range(size_x):\n",
    "        matrix [x, 0] = x\n",
    "    for y in range(size_y):\n",
    "        matrix [0, y] = y\n",
    "\n",
    "    for x in range(1, size_x):\n",
    "        for y in range(1, size_y):\n",
    "            if seq1[x-1] == seq2[y-1]:\n",
    "                matrix [x,y] = min(\n",
    "                    matrix[x-1, y] + 1,\n",
    "                    matrix[x-1, y-1],\n",
    "                    matrix[x, y-1] + 1\n",
    "                )\n",
    "            else:\n",
    "                matrix [x,y] = min(\n",
    "                    matrix[x-1,y] + 1,\n",
    "                    matrix[x-1,y-1] + 1,\n",
    "                    matrix[x,y-1] + 1\n",
    "                )\n",
    "#     print(matrix)\n",
    "    return (matrix[size_x - 1, size_y - 1])\n",
    "\n"
   ]
  },
  {
   "cell_type": "code",
   "execution_count": null,
   "metadata": {
    "scrolled": true
   },
   "outputs": [],
   "source": [
    "lev = []\n",
    "for seq in get_action_list(hist_df.history):\n",
    "    if len(seq) == 1:\n",
    "        lev.append(None)\n",
    "    else:\n",
    "        lev.append(levenshtein(seq, ['hello', 'help_callback']))\n",
    "    \n",
    "print(lev)"
   ]
  },
  {
   "cell_type": "code",
   "execution_count": 51,
   "metadata": {},
   "outputs": [],
   "source": [
    "hist_df['lev'] = lev"
   ]
  },
  {
   "cell_type": "code",
   "execution_count": null,
   "metadata": {
    "scrolled": false
   },
   "outputs": [],
   "source": [
    "for i in hist_df[hist_df.lev<3].history:\n",
    "    print(json.dumps([x['action'] for x in i if x['type']=='update'], sort_keys=True, indent=4, ensure_ascii=False), end = '\\n')\n"
   ]
  },
  {
   "cell_type": "code",
   "execution_count": null,
   "metadata": {
    "scrolled": false
   },
   "outputs": [],
   "source": [
    "def to_dt(string):\n",
    "    if '\"' in string:\n",
    "        string = string.replace('\"', '')\n",
    "    return datetime.datetime.strptime(string, '%Y-%m-%d_%H:%M:%S')\n",
    "\n",
    "def get_last_date(days=1):\n",
    "    \"\"\"days устанавливает значения в днях для получения нужной даты\"\"\"\n",
    "    current_time = datetime.datetime.today() \n",
    "    return current_time - datetime.timedelta(days=days)\n",
    "\n",
    "\n",
    "def get_new_users(array, flag=0):\n",
    "    \"\"\"set 0 to get new users and -1 to get unique\"\"\"\n",
    "    counter = 0\n",
    "    for elem in array:\n",
    "        date = to_dt([x['ts'] for x in elem][flag])\n",
    "        if date>get_last_date(10):\n",
    "            counter +=1\n",
    "    return counter\n",
    "\n",
    "\n",
    "def get_new_users_indexes(array, flag=0):\n",
    "    \"\"\"set 0 to get new users and -1 to get unique\"\"\"\n",
    "    index_list = []\n",
    "    for index, elem in enumerate(array):\n",
    "        date = to_dt([x['ts'] for x in elem][flag])\n",
    "        if date>get_last_date(10):\n",
    "            index_list.append(index)\n",
    "            \n",
    "    return index_list\n",
    "\n",
    "unique = get_new_users_indexes(hist_df.history, -1)\n",
    "new = get_new_users_indexes(hist_df.history, 0)\n",
    "old = set(unique).difference(set(new))\n",
    "hist_df[hist_df['Unnamed: 0'].isin(unique)]\n",
    "hist_df[hist_df['Unnamed: 0'].isin(new)]\n",
    "hist_df[hist_df['Unnamed: 0'].isin(old)]\n",
    "\n"
   ]
  }
 ],
 "metadata": {
  "kernelspec": {
   "display_name": "Python 3",
   "language": "python",
   "name": "python3"
  },
  "language_info": {
   "codemirror_mode": {
    "name": "ipython",
    "version": 3
   },
   "file_extension": ".py",
   "mimetype": "text/x-python",
   "name": "python",
   "nbconvert_exporter": "python",
   "pygments_lexer": "ipython3",
   "version": "3.7.4"
  }
 },
 "nbformat": 4,
 "nbformat_minor": 2
}
