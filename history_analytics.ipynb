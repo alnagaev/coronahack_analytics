{
 "cells": [
  {
   "cell_type": "code",
   "execution_count": 62,
   "metadata": {},
   "outputs": [],
   "source": [
    "import pandas as pd\n",
    "\n",
    "import os \n",
    "PATH = '/home/politlen/Downloads/Telegram Desktop'\n",
    "history = 'history.csv'\n",
    "states = 'states.csv'\n",
    "\n",
    "hist_df = pd.read_csv(os.path.join(PATH, history), converters={'history': eval})"
   ]
  },
  {
   "cell_type": "code",
   "execution_count": 63,
   "metadata": {
    "scrolled": true
   },
   "outputs": [
    {
     "data": {
      "text/plain": [
       "1099"
      ]
     },
     "execution_count": 63,
     "metadata": {},
     "output_type": "execute_result"
    }
   ],
   "source": [
    "len(hist_df)"
   ]
  },
  {
   "cell_type": "code",
   "execution_count": 64,
   "metadata": {
    "scrolled": true
   },
   "outputs": [
    {
     "name": "stdout",
     "output_type": "stream",
     "text": [
      "36\n",
      "0:06:32\n"
     ]
    },
    {
     "data": {
      "text/plain": [
       "Index(['Unnamed: 0', 'user_hash', 'history', 'len', 'updates', 'hello', 'start', 'time_diff'], dtype='object')"
      ]
     },
     "execution_count": 64,
     "metadata": {},
     "output_type": "execute_result"
    }
   ],
   "source": [
    "import json\n",
    "import datetime\n",
    "\n",
    "pd.set_option('display.width', 1000)\n",
    "pd.set_option('display.expand_frame_repr', False)\n",
    "\n",
    "test_cell = hist_df.history.loc[0]\n",
    "\n",
    "def get_updates(json):\n",
    "    return [x for x  in json if x['type']=='update']\n",
    "    \n",
    "\n",
    "def to_dt(string):\n",
    "    return datetime.datetime.strptime(string, '%Y-%m-%d_%H:%M:%S')\n",
    "\n",
    "def get_time_diff(json):\n",
    "    return to_dt(json[-1]['ts']) - to_dt(json[0]['ts'])\n",
    "\n",
    "def get_data(json):\n",
    "    length = len(json)\n",
    "    \n",
    "    return length\n",
    "\n",
    "print(get_data(test_cell))\n",
    "# print(json.dumps(get_updates(test_cell), sort_keys=True, indent=4, ensure_ascii=False))\n",
    "print(get_time_diff(test_cell))\n",
    "hist_df['len'] = hist_df.history.apply(lambda x:len(x))\n",
    "hist_df['updates'] = hist_df.history.apply(lambda x:len(get_updates(x)))\n",
    "hist_df['hello'] = hist_df.history.apply(lambda x: len([i for i in x if i['action'] == 'hello']))\n",
    "hist_df['start'] = hist_df.history.apply(lambda x: len([i for i in x if i['action'] == '/start']))\n",
    "\n",
    "hist_df['time_diff'] = hist_df.history.apply(get_time_diff)\n",
    "hist_df.columns"
   ]
  },
  {
   "cell_type": "code",
   "execution_count": null,
   "metadata": {
    "scrolled": true
   },
   "outputs": [],
   "source": [
    "hist_df.history.loc[5]"
   ]
  },
  {
   "cell_type": "code",
   "execution_count": 66,
   "metadata": {
    "scrolled": true
   },
   "outputs": [
    {
     "name": "stdout",
     "output_type": "stream",
     "text": [
      "Количество запией:  626\n"
     ]
    },
    {
     "data": {
      "text/html": [
       "<div>\n",
       "<style scoped>\n",
       "    .dataframe tbody tr th:only-of-type {\n",
       "        vertical-align: middle;\n",
       "    }\n",
       "\n",
       "    .dataframe tbody tr th {\n",
       "        vertical-align: top;\n",
       "    }\n",
       "\n",
       "    .dataframe thead th {\n",
       "        text-align: right;\n",
       "    }\n",
       "</style>\n",
       "<table border=\"1\" class=\"dataframe\">\n",
       "  <thead>\n",
       "    <tr style=\"text-align: right;\">\n",
       "      <th></th>\n",
       "      <th>Unnamed: 0</th>\n",
       "      <th>user_hash</th>\n",
       "      <th>history</th>\n",
       "      <th>len</th>\n",
       "      <th>updates</th>\n",
       "      <th>hello</th>\n",
       "      <th>start</th>\n",
       "      <th>time_diff</th>\n",
       "    </tr>\n",
       "  </thead>\n",
       "  <tbody>\n",
       "    <tr>\n",
       "      <th>11</th>\n",
       "      <td>11</td>\n",
       "      <td>fca6afefbea8d8b531c4f13d7f994c2623713891b77825...</td>\n",
       "      <td>[{'type': 'update', 'action': '/start', 'ts': ...</td>\n",
       "      <td>12</td>\n",
       "      <td>5</td>\n",
       "      <td>1</td>\n",
       "      <td>1</td>\n",
       "      <td>00:00:12</td>\n",
       "    </tr>\n",
       "    <tr>\n",
       "      <th>13</th>\n",
       "      <td>13</td>\n",
       "      <td>f52e928aeb540b0e1a7f1572b6ad4dabb6bf239954a047...</td>\n",
       "      <td>[{'type': 'update', 'action': '/start', 'ts': ...</td>\n",
       "      <td>3</td>\n",
       "      <td>1</td>\n",
       "      <td>1</td>\n",
       "      <td>1</td>\n",
       "      <td>00:00:00</td>\n",
       "    </tr>\n",
       "    <tr>\n",
       "      <th>14</th>\n",
       "      <td>14</td>\n",
       "      <td>166d7f828381afd0980a64550f2729bc97f47232054911...</td>\n",
       "      <td>[{'type': 'update', 'action': '/start', 'ts': ...</td>\n",
       "      <td>7</td>\n",
       "      <td>3</td>\n",
       "      <td>1</td>\n",
       "      <td>1</td>\n",
       "      <td>00:00:09</td>\n",
       "    </tr>\n",
       "    <tr>\n",
       "      <th>15</th>\n",
       "      <td>15</td>\n",
       "      <td>31ec8e61e3bc60129ad36cb079712e62529e4e9dfd9d97...</td>\n",
       "      <td>[{'type': 'update', 'action': '/start', 'ts': ...</td>\n",
       "      <td>3</td>\n",
       "      <td>1</td>\n",
       "      <td>1</td>\n",
       "      <td>1</td>\n",
       "      <td>00:00:00</td>\n",
       "    </tr>\n",
       "    <tr>\n",
       "      <th>16</th>\n",
       "      <td>16</td>\n",
       "      <td>5aebb54a547059fe784a86101e5f4bec4c282b9d110c77...</td>\n",
       "      <td>[{'type': 'update', 'action': '/start', 'ts': ...</td>\n",
       "      <td>3</td>\n",
       "      <td>1</td>\n",
       "      <td>1</td>\n",
       "      <td>1</td>\n",
       "      <td>00:00:00</td>\n",
       "    </tr>\n",
       "  </tbody>\n",
       "</table>\n",
       "</div>"
      ],
      "text/plain": [
       "    Unnamed: 0                                          user_hash                                            history  len  updates  hello  start time_diff\n",
       "11          11  fca6afefbea8d8b531c4f13d7f994c2623713891b77825...  [{'type': 'update', 'action': '/start', 'ts': ...   12        5      1      1  00:00:12\n",
       "13          13  f52e928aeb540b0e1a7f1572b6ad4dabb6bf239954a047...  [{'type': 'update', 'action': '/start', 'ts': ...    3        1      1      1  00:00:00\n",
       "14          14  166d7f828381afd0980a64550f2729bc97f47232054911...  [{'type': 'update', 'action': '/start', 'ts': ...    7        3      1      1  00:00:09\n",
       "15          15  31ec8e61e3bc60129ad36cb079712e62529e4e9dfd9d97...  [{'type': 'update', 'action': '/start', 'ts': ...    3        1      1      1  00:00:00\n",
       "16          16  5aebb54a547059fe784a86101e5f4bec4c282b9d110c77...  [{'type': 'update', 'action': '/start', 'ts': ...    3        1      1      1  00:00:00"
      ]
     },
     "execution_count": 66,
     "metadata": {},
     "output_type": "execute_result"
    }
   ],
   "source": [
    "low = hist_df[hist_df.time_diff < datetime.timedelta(seconds=30)]\n",
    "print('Количество запией: ', len(low))\n",
    "low.head()"
   ]
  },
  {
   "cell_type": "code",
   "execution_count": null,
   "metadata": {
    "scrolled": true
   },
   "outputs": [],
   "source": [
    "for i in low.history:\n",
    "    print(json.dumps(i, sort_keys=True, indent=4, ensure_ascii=False), end = '**'*16)"
   ]
  },
  {
   "cell_type": "code",
   "execution_count": 74,
   "metadata": {},
   "outputs": [],
   "source": [
    "def get_action_list(df):\n",
    "    action_list = []\n",
    "    for row in df:\n",
    "        action_list.append([x['action'] for x in row if x['type'] == 'update'])\n",
    "    \n",
    "    return action_list"
   ]
  },
  {
   "cell_type": "code",
   "execution_count": 45,
   "metadata": {},
   "outputs": [],
   "source": [
    "import numpy as np\n",
    "\n",
    "def levenshtein(seq1, seq2):\n",
    "    size_x = len(seq1) + 1\n",
    "    size_y = len(seq2) + 1\n",
    "    matrix = np.zeros ((size_x, size_y))\n",
    "    for x in range(size_x):\n",
    "        matrix [x, 0] = x\n",
    "    for y in range(size_y):\n",
    "        matrix [0, y] = y\n",
    "\n",
    "    for x in range(1, size_x):\n",
    "        for y in range(1, size_y):\n",
    "            if seq1[x-1] == seq2[y-1]:\n",
    "                matrix [x,y] = min(\n",
    "                    matrix[x-1, y] + 1,\n",
    "                    matrix[x-1, y-1],\n",
    "                    matrix[x, y-1] + 1\n",
    "                )\n",
    "            else:\n",
    "                matrix [x,y] = min(\n",
    "                    matrix[x-1,y] + 1,\n",
    "                    matrix[x-1,y-1] + 1,\n",
    "                    matrix[x,y-1] + 1\n",
    "                )\n",
    "#     print(matrix)\n",
    "    return (matrix[size_x - 1, size_y - 1])\n",
    "\n"
   ]
  },
  {
   "cell_type": "code",
   "execution_count": null,
   "metadata": {
    "scrolled": true
   },
   "outputs": [],
   "source": [
    "lev = []\n",
    "for seq in get_action_list(hist_df.history):\n",
    "    if len(seq) == 1:\n",
    "        lev.append(None)\n",
    "    else:\n",
    "        lev.append(levenshtein(seq, ['hello', 'help_callback']))\n",
    "    \n",
    "print(lev)"
   ]
  },
  {
   "cell_type": "code",
   "execution_count": 51,
   "metadata": {},
   "outputs": [],
   "source": [
    "hist_df['lev'] = lev"
   ]
  },
  {
   "cell_type": "code",
   "execution_count": null,
   "metadata": {
    "scrolled": false
   },
   "outputs": [],
   "source": [
    "for i in hist_df[hist_df.lev<3].history:\n",
    "    print(json.dumps([x['action'] for x in i if x['type']=='update'], sort_keys=True, indent=4, ensure_ascii=False), end = '\\n')\n"
   ]
  },
  {
   "cell_type": "code",
   "execution_count": null,
   "metadata": {
    "scrolled": true
   },
   "outputs": [],
   "source": [
    "#подсчет новых и уникальных юзеров за период времени\n",
    "def to_dt(string):\n",
    "    if '\"' in string:\n",
    "        string = string.replace('\"', '')\n",
    "    return datetime.datetime.strptime(string, '%Y-%m-%d_%H:%M:%S')\n",
    "\n",
    "def get_last_date(days=1):\n",
    "    \"\"\"days устанавливает значения в днях для получения нужной даты\"\"\"\n",
    "    current_time = datetime.datetime.today() \n",
    "    return current_time - datetime.timedelta(days=days)\n",
    "\n",
    "\n",
    "def get_new_users(array, flag=0):\n",
    "    \"\"\"set 0 to get new users and -1 to get unique\"\"\"\n",
    "    counter = 0\n",
    "    for elem in array:\n",
    "        date = to_dt([x['ts'] for x in elem][flag])\n",
    "        if date>get_last_date(1):\n",
    "            counter +=1\n",
    "    return counter\n",
    "\n",
    "\n",
    "def get_new_users_indexes(array, flag=0):\n",
    "    \"\"\"set 0 to get new users and -1 to get unique\"\"\"\n",
    "    index_list = []\n",
    "    for index, elem in enumerate(array):\n",
    "        date = to_dt([x['ts'] for x in elem][flag])\n",
    "        if date>get_last_date(1):\n",
    "            index_list.append(index)\n",
    "            \n",
    "    return index_list\n",
    "\n",
    "unique = get_new_users_indexes(hist_df.history, -1)\n",
    "new = get_new_users_indexes(hist_df.history, 0)\n",
    "old = set(unique).difference(set(new))\n",
    "hist_df[hist_df['Unnamed: 0'].isin(unique)]\n",
    "hist_df[hist_df['Unnamed: 0'].isin(new)]\n",
    "hist_df[hist_df['Unnamed: 0'].isin(old)]\n",
    "\n"
   ]
  },
  {
   "cell_type": "code",
   "execution_count": 86,
   "metadata": {},
   "outputs": [
    {
     "data": {
      "text/plain": [
       "[('/start', 1227),\n",
       " ('Полезно знать', 757),\n",
       " ('Вернуться', 677),\n",
       " ('Советы юристов', 500),\n",
       " ('Нет', 470),\n",
       " ('Понятно', 431),\n",
       " ('Нужна помощь', 315),\n",
       " ('Хочу помочь', 231),\n",
       " ('Напомнить меры профилактики', 230),\n",
       " ('/help', 210),\n",
       " ('Мои права нарушают', 139),\n",
       " ('Да', 129),\n",
       " ('Как не заразиться?', 125),\n",
       " ('Я просто тестирую бота', 116),\n",
       " ('Когда стоит вызывать врача?', 111),\n",
       " ('Выберите свои симптомы.', 109),\n",
       " ('Как вести себя при задержании?', 109),\n",
       " ('Стать волонтером', 104),\n",
       " ('Обнаружил(а) симптомы', 96),\n",
       " ('Другая помощь', 91),\n",
       " ('Поддержать НКО и местные инициативы', 76),\n",
       " ('Хочу помочь нуждающимся', 76),\n",
       " ('Что будет, если нарушить карантин?', 67),\n",
       " ('Как не заразить окружающих?', 62),\n",
       " ('Нет, не разрешаю', 61),\n",
       " ('Могут ли меня уволить?', 51),\n",
       " ('Да, разрешаю', 44),\n",
       " ('Уязвимым людям', 41),\n",
       " ('Распространить полезную информацию', 32),\n",
       " ('None', 32)]"
      ]
     },
     "execution_count": 86,
     "metadata": {},
     "output_type": "execute_result"
    }
   ],
   "source": [
    "#кустарный подсчет самых востребованных кнопок\n",
    "def get_all_updates(df):\n",
    "    action_list = []\n",
    "    for row in df:\n",
    "        action_list.extend([x['action'] for x in row if x['type'] == 'update'])\n",
    "    \n",
    "    return action_list\n",
    "\n",
    "\n",
    "from collections import Counter\n",
    "cnt = Counter()\n",
    "\n",
    "for el in get_all_callbacks(hist_df.history):\n",
    "     el = str(el)\n",
    "     cnt[el] += 1\n",
    "        \n",
    "\n",
    "cnt.most_common(30)"
   ]
  }
 ],
 "metadata": {
  "kernelspec": {
   "display_name": "Python 3",
   "language": "python",
   "name": "python3"
  },
  "language_info": {
   "codemirror_mode": {
    "name": "ipython",
    "version": 3
   },
   "file_extension": ".py",
   "mimetype": "text/x-python",
   "name": "python",
   "nbconvert_exporter": "python",
   "pygments_lexer": "ipython3",
   "version": "3.7.4"
  }
 },
 "nbformat": 4,
 "nbformat_minor": 2
}
